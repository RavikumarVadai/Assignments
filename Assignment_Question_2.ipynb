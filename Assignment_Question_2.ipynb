{
 "cells": [
  {
   "cell_type": "markdown",
   "metadata": {},
   "source": [
    "# A/B Testing \n",
    "It is a very common technique to evaluate effectiveness of changes in a user interface. You show some users interface A (an existing design), and to others you show interface B (a newer design), and then check if people search more with the new design or still prefer the older design. The attached dataset “searches.json” contains data from one such A/B testing experiment. \n",
    "Each line in this file represents data of one user’s interactions. The following data is collected for each user: \n",
    "● uid: unique user id - users with an odd-numbered uid were shown the new design (B) \n",
    "● is_instructor: Instructors are testers or presenters who demonstrate search functionality \n",
    "to prospective clients. \n",
    "● login_count: number of times the user logged in \n",
    "● search_count: number of times the user used the search feature \n",
    "Write a program that answers the questions: \n",
    "● Did more users use the search feature in the new design (B)? \n",
    "● Did users search more often in the new design (B)? \n",
    " "
   ]
  },
  {
   "cell_type": "markdown",
   "metadata": {},
   "source": [
    "# Total number of searches\n",
    "### Comparison between new and old design"
   ]
  },
  {
   "cell_type": "code",
   "execution_count": 15,
   "metadata": {},
   "outputs": [
    {
     "data": {
      "text/html": [
       "<div>\n",
       "<style scoped>\n",
       "    .dataframe tbody tr th:only-of-type {\n",
       "        vertical-align: middle;\n",
       "    }\n",
       "\n",
       "    .dataframe tbody tr th {\n",
       "        vertical-align: top;\n",
       "    }\n",
       "\n",
       "    .dataframe thead th {\n",
       "        text-align: right;\n",
       "    }\n",
       "</style>\n",
       "<table border=\"1\" class=\"dataframe\">\n",
       "  <thead>\n",
       "    <tr style=\"text-align: right;\">\n",
       "      <th></th>\n",
       "      <th>is_instructor</th>\n",
       "      <th>login_count</th>\n",
       "      <th>search_count</th>\n",
       "      <th>uid</th>\n",
       "      <th>is_new_design</th>\n",
       "    </tr>\n",
       "  </thead>\n",
       "  <tbody>\n",
       "    <tr>\n",
       "      <th>0</th>\n",
       "      <td>True</td>\n",
       "      <td>1</td>\n",
       "      <td>2</td>\n",
       "      <td>6061521</td>\n",
       "      <td>yes</td>\n",
       "    </tr>\n",
       "    <tr>\n",
       "      <th>1</th>\n",
       "      <td>False</td>\n",
       "      <td>4</td>\n",
       "      <td>0</td>\n",
       "      <td>11986457</td>\n",
       "      <td>yes</td>\n",
       "    </tr>\n",
       "    <tr>\n",
       "      <th>2</th>\n",
       "      <td>False</td>\n",
       "      <td>1</td>\n",
       "      <td>0</td>\n",
       "      <td>15995765</td>\n",
       "      <td>yes</td>\n",
       "    </tr>\n",
       "    <tr>\n",
       "      <th>3</th>\n",
       "      <td>True</td>\n",
       "      <td>3</td>\n",
       "      <td>0</td>\n",
       "      <td>9106912</td>\n",
       "      <td>no</td>\n",
       "    </tr>\n",
       "    <tr>\n",
       "      <th>4</th>\n",
       "      <td>False</td>\n",
       "      <td>1</td>\n",
       "      <td>0</td>\n",
       "      <td>9882383</td>\n",
       "      <td>yes</td>\n",
       "    </tr>\n",
       "  </tbody>\n",
       "</table>\n",
       "</div>"
      ],
      "text/plain": [
       "   is_instructor  login_count  search_count       uid is_new_design\n",
       "0           True            1             2   6061521           yes\n",
       "1          False            4             0  11986457           yes\n",
       "2          False            1             0  15995765           yes\n",
       "3           True            3             0   9106912            no\n",
       "4          False            1             0   9882383           yes"
      ]
     },
     "execution_count": 15,
     "metadata": {},
     "output_type": "execute_result"
    }
   ],
   "source": [
    "import json\n",
    "import pandas as pd\n",
    "import numpy as np\n",
    "\n",
    "location = 'searches.json' #location to import data\n",
    "df = pd.read_json(location, lines= True)\n",
    "\n",
    "# creating a new column by 'is_new_desing' name\n",
    "df['is_new_design'] = np.where((df['uid']%2 != 0), 'yes','no' )\n",
    "df.head()"
   ]
  },
  {
   "cell_type": "code",
   "execution_count": 16,
   "metadata": {},
   "outputs": [
    {
     "data": {
      "text/plain": [
       "is_new_design  is_instructor\n",
       "no             False            145\n",
       "               True             121\n",
       "yes            False            143\n",
       "               True              88\n",
       "Name: search_count, dtype: int64"
      ]
     },
     "execution_count": 16,
     "metadata": {},
     "output_type": "execute_result"
    }
   ],
   "source": [
    "# grouping necessary information\n",
    "df.groupby(['is_new_design', 'is_instructor'])['search_count'].sum()"
   ]
  },
  {
   "cell_type": "code",
   "execution_count": 6,
   "metadata": {},
   "outputs": [
    {
     "name": "stdout",
     "output_type": "stream",
     "text": [
      "total number of searches with new design interface is 143\n"
     ]
    }
   ],
   "source": [
    "# no. of searches \n",
    "new_dsn_tot_src_count= df[(df['is_instructor'] == False)& (df['is_new_design'] == 'yes')].search_count.sum()\n",
    "print('total number of searches with new design interface is', new_dsn_tot_src_count)"
   ]
  },
  {
   "cell_type": "code",
   "execution_count": 7,
   "metadata": {},
   "outputs": [
    {
     "name": "stdout",
     "output_type": "stream",
     "text": [
      "total number of searches with old design interface is 145\n"
     ]
    }
   ],
   "source": [
    "#no. of searches\n",
    "old_dsn_tot_src_count= df[(df['is_instructor'] == False)& (df['is_new_design'] == 'no')].search_count.sum()\n",
    "print('total number of searches with old design interface is', old_dsn_tot_src_count)"
   ]
  },
  {
   "cell_type": "code",
   "execution_count": 9,
   "metadata": {},
   "outputs": [],
   "source": [
    "#creating new dataframes\n",
    "#removing rows with zero search count the rows with instructur searches\n",
    "df_new_dsn_src_used = df[(df['is_instructor'] == False)& (df['is_new_design'] == 'yes')&(df['search_count']>0)]\n",
    "df_old_dsn_src_used = df[(df['is_instructor'] == False)& (df['is_new_design'] == 'no')&(df['search_count']>0)]"
   ]
  },
  {
   "cell_type": "code",
   "execution_count": 18,
   "metadata": {},
   "outputs": [
    {
     "name": "stdout",
     "output_type": "stream",
     "text": [
      "Number of users used search feature in new design(B) is  65\n"
     ]
    }
   ],
   "source": [
    "new_dsn_src_used = len(df_new_dsn_src_used)\n",
    "print('Number of users used search feature in new design(B) is ', new_dsn_src_used)"
   ]
  },
  {
   "cell_type": "code",
   "execution_count": 17,
   "metadata": {},
   "outputs": [
    {
     "name": "stdout",
     "output_type": "stream",
     "text": [
      "Number of users used search feature in old design(B) is  61\n"
     ]
    }
   ],
   "source": [
    "old_dsn_src_used = len(df_old_dsn_src_used)\n",
    "print('Number of users used search feature in old design(B) is ', old_dsn_src_used)"
   ]
  },
  {
   "cell_type": "markdown",
   "metadata": {},
   "source": [
    "# Conclusion\n"
   ]
  },
  {
   "cell_type": "markdown",
   "metadata": {},
   "source": [
    "## More number of users(65) used search features in new design(B)(65) compared to  old design(A) (61)\n",
    "\n",
    "## Old design interface has more number of total searches(145) compared to new design total searches (143)"
   ]
  },
  {
   "cell_type": "code",
   "execution_count": null,
   "metadata": {},
   "outputs": [],
   "source": []
  }
 ],
 "metadata": {
  "kernelspec": {
   "display_name": "Python 3",
   "language": "python",
   "name": "python3"
  },
  "language_info": {
   "codemirror_mode": {
    "name": "ipython",
    "version": 3
   },
   "file_extension": ".py",
   "mimetype": "text/x-python",
   "name": "python",
   "nbconvert_exporter": "python",
   "pygments_lexer": "ipython3",
   "version": "3.6.4"
  }
 },
 "nbformat": 4,
 "nbformat_minor": 2
}
