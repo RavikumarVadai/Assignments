{
 "cells": [
  {
   "cell_type": "code",
   "execution_count": 1,
   "metadata": {},
   "outputs": [
    {
     "name": "stdout",
     "output_type": "stream",
     "text": [
      "Please find input\n",
      "2 7\n",
      "0.18 0.89 109.85\n",
      "1.0 0.26 155.72\n",
      "0.92 0.11 137.66\n",
      "0.07 0.37 76.17\n",
      "0.85 0.16 139.75\n",
      "0.99 0.41 162.6\n",
      "0.87 0.47 151.77\n",
      "4\n",
      "0.49 0.18\n",
      "0.57 0.83\n",
      "0.56 0.64\n",
      "0.76 0.18\n",
      "\n",
      "Please find output\n",
      "105.21 \n",
      "142.67 \n",
      "132.94 \n",
      "129.70 \n"
     ]
    }
   ],
   "source": [
    "import numpy as np\n",
    "from sklearn import linear_model\n",
    "location = 'test.txt'\n",
    "\n",
    "input_sample = []\n",
    "\n",
    "# input test samples\n",
    "print('Please find input')\n",
    "with open(location) as w:\n",
    "    for lines in w:\n",
    "        print(lines.strip('\\n'))\n",
    "\n",
    "f = open(location) #text file location\n",
    "\n",
    "def read_int():\n",
    "    line = f.readline()\n",
    "    return [int(x) for x in line.strip().split(' ')]\n",
    "\n",
    "def read_float():\n",
    "    line = f.readline()\n",
    "    return [float(x) for x in line.strip().split(' ')]\n",
    "\n",
    "#function to find number of features and observations\n",
    "def find_features_trainings():\n",
    "    Features, Trainings = read_int()\n",
    "    return Features, Trainings\n",
    "\n",
    "# function to get training set\n",
    "def train_set():\n",
    "    array = np.array([read_float() for i in range(N)])\n",
    "    return array\n",
    "\n",
    "# function to find number of test samples\n",
    "def test_samples():\n",
    "    test_samples = read_int()\n",
    "    return test_samples\n",
    "\n",
    "#function to get test set\n",
    "def test_sample_set():\n",
    "    array = np.array([read_float() for i in range(total_test_samples)])\n",
    "    return array\n",
    "    \n",
    "F, N = find_features_trainings()\n",
    "train_set = train_set()\n",
    "total_test_samples = test_samples()[0]\n",
    "test_set = test_sample_set()\n",
    "X_train = train_set[:, :F] \n",
    "Y_train = train_set[:,-1]  \n",
    "X_test = test_set\n",
    "clf = linear_model.LinearRegression() # linear regression\n",
    "clf.fit(X_train, Y_train)\n",
    "\n",
    "#house price prediction\n",
    "Price_prediction = clf.predict(X_test)\n",
    "print('\\nPlease find output')\n",
    "for price in Price_prediction:\n",
    "    print(\"%.2f \" % price)"
   ]
  },
  {
   "cell_type": "code",
   "execution_count": null,
   "metadata": {},
   "outputs": [],
   "source": []
  }
 ],
 "metadata": {
  "kernelspec": {
   "display_name": "Python 3",
   "language": "python",
   "name": "python3"
  },
  "language_info": {
   "codemirror_mode": {
    "name": "ipython",
    "version": 3
   },
   "file_extension": ".py",
   "mimetype": "text/x-python",
   "name": "python",
   "nbconvert_exporter": "python",
   "pygments_lexer": "ipython3",
   "version": "3.6.4"
  }
 },
 "nbformat": 4,
 "nbformat_minor": 2
}
