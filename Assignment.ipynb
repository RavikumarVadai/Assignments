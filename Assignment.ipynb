{
 "cells": [
  {
   "cell_type": "markdown",
   "metadata": {},
   "source": [
    "## Write Python code to do the following: Given some words of equal length, find the number of possible unique words that can be created from them. The position of the alphabets in the resulting word should be the same as the original word. In the following line, print all the possible resulting words.\n",
    "\n",
    "Example: Input : ABC PQR Output : 8 ABC AQC PBC PQR ABR PQC AQR PBR"
   ]
  },
  {
   "cell_type": "code",
   "execution_count": null,
   "metadata": {},
   "outputs": [],
   "source": [
    "def unique_words(words):\n",
    "    new_words = []\n",
    "    for word in words:\n",
    "        for index, letter in enumerate(list(word)):\n",
    "            i, val = index, letter\n",
    "            for word in words:\n",
    "                if letter == word[i]:\n",
    "                    continue\n",
    "                else:\n",
    "                    new_words.append(word.replace(word[i], letter))\n",
    "    total_words = words + new_words\n",
    "    print(total_words)"
   ]
  },
  {
   "cell_type": "code",
   "execution_count": 2,
   "metadata": {},
   "outputs": [
    {
     "name": "stdout",
     "output_type": "stream",
     "text": [
      "['ABC', 'PQR', 'STU', 'AQR', 'ATU', 'PBR', 'SBU', 'PQC', 'STC', 'PBC', 'PTU', 'AQC', 'SQU', 'ABR', 'STR', 'SBC', 'SQR', 'ATC', 'PTR', 'ABU', 'PQU']\n"
     ]
    }
   ],
   "source": [
    "words = ['ABC', 'PQR', 'STU']\n",
    "unique_words(words)"
   ]
  },
  {
   "cell_type": "code",
   "execution_count": 3,
   "metadata": {},
   "outputs": [
    {
     "name": "stdout",
     "output_type": "stream",
     "text": [
      "['abcd', 'efgh', 'ijkl', 'mnop', 'qrst', 'uvwx', 'afgh', 'ajkl', 'anop', 'arst', 'avwx', 'ebgh', 'ibkl', 'mbop', 'qbst', 'ubwx', 'efch', 'ijcl', 'mncp', 'qrct', 'uvcx', 'efgd', 'ijkd', 'mnod', 'qrsd', 'uvwd', 'ebcd', 'ejkl', 'enop', 'erst', 'evwx', 'afcd', 'ifkl', 'mfop', 'qfst', 'ufwx', 'abgd', 'ijgl', 'mngp', 'qrgt', 'uvgx', 'abch', 'ijkh', 'mnoh', 'qrsh', 'uvwh', 'ibcd', 'ifgh', 'inop', 'irst', 'ivwx', 'ajcd', 'ejgh', 'mjop', 'qjst', 'ujwx', 'abkd', 'efkh', 'mnkp', 'qrkt', 'uvkx', 'abcl', 'efgl', 'mnol', 'qrsl', 'uvwl', 'mbcd', 'mfgh', 'mjkl', 'mrst', 'mvwx', 'ancd', 'engh', 'inkl', 'qnst', 'unwx', 'abod', 'efoh', 'ijol', 'qrot', 'uvox', 'abcp', 'efgp', 'ijkp', 'qrsp', 'uvwp', 'qbcd', 'qfgh', 'qjkl', 'qnop', 'qvwx', 'arcd', 'ergh', 'irkl', 'mrop', 'urwx', 'absd', 'efsh', 'ijsl', 'mnsp', 'uvsx', 'abct', 'efgt', 'ijkt', 'mnot', 'uvwt', 'ubcd', 'ufgh', 'ujkl', 'unop', 'urst', 'avcd', 'evgh', 'ivkl', 'mvop', 'qvst', 'abwd', 'efwh', 'ijwl', 'mnwp', 'qrwt', 'abcx', 'efgx', 'ijkx', 'mnox', 'qrsx']\n"
     ]
    }
   ],
   "source": [
    "word_list = ['abcd', 'efgh', 'ijkl', 'mnop', 'qrst', 'uvwx']\n",
    "unique_words(word_list)"
   ]
  },
  {
   "cell_type": "code",
   "execution_count": null,
   "metadata": {},
   "outputs": [],
   "source": []
  }
 ],
 "metadata": {
  "kernelspec": {
   "display_name": "Python 3",
   "language": "python",
   "name": "python3"
  },
  "language_info": {
   "codemirror_mode": {
    "name": "ipython",
    "version": 3
   },
   "file_extension": ".py",
   "mimetype": "text/x-python",
   "name": "python",
   "nbconvert_exporter": "python",
   "pygments_lexer": "ipython3",
   "version": "3.6.4"
  }
 },
 "nbformat": 4,
 "nbformat_minor": 2
}
